{
 "cells": [
  {
   "cell_type": "markdown",
   "metadata": {},
   "source": [
    "# Bioinformatics Problems on Rosalind.info\n",
    "\n",
    "## 6. Counting Point Mutations\n",
    "\n",
    "A mutation is simply a mistake that occurs during the creation or copying of a nucleic acid, in particular DNA. Because nucleic acids are vital to cellular functions, mutations tend to cause a ripple effect throughout the cell. Although mutations are technically mistakes, a very rare mutation may equip the cell with a beneficial attribute. In fact, the macro effects of evolution are attributable by the accumulated result of beneficial microscopic mutations over many generations.\n",
    "\n",
    "The simplest and most common type of nucleic acid mutation is a **point mutation**, which replaces one base with another at a single nucleotide. In the case of DNA, a point mutation must change the complementary base accordingly.\n",
    "\n",
    "\n",
    "**Problem**\n",
    "\n",
    "Given two strings _s_ and _t_ of equal length, the Hamming distance between _s_ and _t_, denoted dH(s,t), is the number of corresponding symbols that differ in _s_ and _t_. \n",
    "\n",
    "Given: Two DNA strings _s_ and _t_ of equal length (not exceeding 1 kbp).\n",
    "\n",
    "Return: The Hamming distance dH(s,t)."
   ]
  },
  {
   "cell_type": "code",
   "execution_count": 6,
   "metadata": {
    "collapsed": false
   },
   "outputs": [
    {
     "name": "stdout",
     "output_type": "stream",
     "text": [
      "length of sequence = 932\n",
      "number of mutations = 469\n"
     ]
    }
   ],
   "source": [
    "# read file\n",
    "f = open(\"data/rosalind_hamm.txt\", 'r')\n",
    "raw_data = f.readlines()\n",
    "f.close()\n",
    "\n",
    "mutation_count = 0 # initialize mutations\n",
    "\n",
    "# iterate through the sequences\n",
    "for i in range(len(raw_data[0])):\n",
    "    if raw_data[0][i] != raw_data[1][i]:\n",
    "        mutation_count += 1\n",
    "\n",
    "print(\"length of sequence =\", len(raw_data[0]))\n",
    "print(\"number of mutations =\",mutation_count)"
   ]
  },
  {
   "cell_type": "markdown",
   "metadata": {},
   "source": [
    "## 7. Mendel's First Law\n",
    "\n",
    "Also known as the law of segregation, Mendel's 1st Law stated that:\n",
    "\n",
    "- every organism possesses a pair of alleles for a given factor. \n",
    "- If an individual's two alleles for a given factor are the same, then it is homozygous for the factor; if the alleles differ, then the individual is heterozygous. \n",
    "- The first law concludes that for any factor, an organism randomly passes one of its two alleles to each offspring, so that an individual receives one allele from each parent.\n",
    "- any factor corresponds to only two possible alleles, the dominant and recessive alleles. \n",
    "- An organism only needs to possess one copy of the dominant allele to display the trait represented by the dominant allele. \n",
    "\n",
    "We may encode the dominant allele of a factor by a capital letter (e.g., AA) and the recessive allele by a lower case letter (e.g., aa). Because a heterozygous organism can possess a recessive allele without displaying the recessive form of the trait, we henceforth define an organism's genotype to be its precise genetic makeup and its phenotype as the physical manifestation of its underlying traits.\n",
    "\n",
    "The different possibilities describing an individual's inheritance of two alleles from its parents can be represented by a Punnett square; see Figure below for an example.\n",
    "\n",
    "![](http://rosalind.info/media/problems/iprb/220px-Punnett_Square.svg.png)\n",
    "\n",
    "A Punnett square representing the possible outcomes of crossing a heterozygous organism (Yy) with a homozygous recessive organism (yy); here, the dominant allele Y corresponds to yellow pea pods, and the recessive allele y corresponds to green pea pods.\n",
    "\n",
    "\n",
    "**Problem**\n",
    "\n",
    "Given: Three positive integers k, m, and n, representing a population containing k+m+n organisms: k individuals are homozygous dominant for a factor, m are heterozygous, and n are homozygous recessive.\n",
    "\n",
    "Return: The probability that two randomly selected mating organisms will produce an individual possessing a dominant allele (and thus displaying the dominant phenotype). Assume that any two organisms can mate."
   ]
  },
  {
   "cell_type": "code",
   "execution_count": 13,
   "metadata": {
    "collapsed": false
   },
   "outputs": [
    {
     "data": {
      "text/plain": [
       "0.7833333333333333"
      ]
     },
     "execution_count": 13,
     "metadata": {},
     "output_type": "execute_result"
    }
   ],
   "source": [
    "# HD = homozygous dominant (AA)\n",
    "# HT = heterozygous (Aa)\n",
    "# HR = homozygous recessive (aa)\n",
    "def dominant_phenotype(HD, HT, HR):\n",
    "    tot = HD + HT + HR\n",
    "    # probability of obtaining recessive allele if both from HR\n",
    "    pRecc_2HR = HR * (HR-1)\n",
    "    \n",
    "    # probability of obtaining recessive allele if both from hetero\n",
    "    pRecc_2HT = (0.5*HT) * (0.5*(HT-1))\n",
    "    \n",
    "    # probability of obtaining recessive allele if one from hetero and one from HR\n",
    "    # double because two scenarios (e.g. Aa * aa & aa * Aa)\n",
    "    pRecc_1HT_1HR = 2.0 * HR * (0.5*HT)\n",
    "    \n",
    "    pRecc  = (pRecc_2HR + pRecc_2HT + pRecc_1HT_1HR)/(tot*(tot-1))\n",
    "    return 1-pRecc\n",
    "\n",
    "dominant_phenotype(2, 2, 2)"
   ]
  },
  {
   "cell_type": "markdown",
   "metadata": {},
   "source": [
    "## 8. Translating RNA into Protein\n",
    "\n",
    "Just as nucleic acids are polymers of nucleotides, proteins are chains of smaller molecules called amino acids; 20 amino acids commonly appear in every species. Just as the primary structure of a nucleic acid is given by the order of its nucleotides, the primary structure of a protein is the order of its amino acids. Some proteins are composed of several subchains called polypeptides, while others are formed of a single polypeptide.\n",
    "\n",
    "The notion that protein is always created from RNA, which in turn is always created from DNA, forms the central dogma of molecular biology. Like all dogmas, it does not always hold; however, it offers an excellent approximation of the truth.\n",
    "\n",
    "- 4 RNA bases must be translated into a language of 20 amino acids\n",
    "- 3-nucleobase strings (called codons) are translated into amino acids. \n",
    "- There are 4x4x4 =64 possible codons, so that multiple codons may encode the same amino acid. - Start codon (AUG), which codes for the amino acid methionine always indicates the start of translation\n",
    "- Three stop codons (UAA, UAG, UGA), do not code for an amino acid cause translation to end.\n",
    "\n",
    "An organelle called a ribosome creates peptides by using a helper molecule called transfer RNA (tRNA). A single tRNA molecule possesses a string of three RNA nucleotides on one end (called an anticodon) and an amino acid at the other end. The ribosome takes an RNA molecule transcribed from DNA (see “Transcribing DNA into RNA”), called messenger RNA (mRNA), and examines it one codon at a time. At each step, the tRNA possessing the complementary anticodon bonds to the mRNA at this location, and the amino acid found on the opposite end of the tRNA is added to the growing peptide chain before the remaining part of the tRNA is ejected into the cell, and the ribosome looks for the next tRNA molecule.\n",
    "\n",
    "**Problem**\n",
    "\n",
    "The 20 commonly occurring amino acids are abbreviated by using 20 letters from the English alphabet (all letters except for B, J, O, U, X, and Z). Protein strings are constructed from these 20 symbols. Henceforth, the term genetic string will incorporate protein strings along with DNA strings and RNA strings.\n",
    "\n",
    "The RNA codon table dictates the details regarding the encoding of specific codons into the amino acid alphabet.\n",
    "\n",
    "- Given: An RNA string _s_ corresponding to a strand of mRNA (of length at most 10 kbp).\n",
    "\n",
    "- Return: The protein string encoded by _s_."
   ]
  },
  {
   "cell_type": "code",
   "execution_count": 17,
   "metadata": {
    "collapsed": false
   },
   "outputs": [
    {
     "name": "stdout",
     "output_type": "stream",
     "text": [
      "MAMAPRTEINSTRING\n"
     ]
    }
   ],
   "source": [
    "# Biopython \n",
    "from Bio.Seq import Seq\n",
    "import Bio.Alphabet\n",
    "\n",
    "# test\n",
    "test_seq = 'AUGGCCAUGGCGCCCAGAACUGAGAUCAAUAGUACCCGUAUUAACGGGUGA'\n",
    "mrna_seq = Seq(test_seq, Bio.Alphabet.IUPAC.unambiguous_rna)\n",
    "protein_seq = mrna_seq.translate(to_stop=True)\n",
    "\n",
    "print(protein_seq)"
   ]
  },
  {
   "cell_type": "code",
   "execution_count": 18,
   "metadata": {
    "collapsed": true
   },
   "outputs": [],
   "source": [
    "# Solving Rosalind problem\n",
    "\n",
    "f = open(\"data/rosalind_prot.txt\", 'r')\n",
    "mrna_seq = Seq(f.read().replace('\\n', ''), Bio.Alphabet.IUPAC.unambiguous_rna)\n",
    "f.close\n",
    "\n",
    "protein_seq = mrna_seq.translate(to_stop=True)\n",
    "\n",
    "o = open(\"data/rosalind_prot_solution.txt\", 'w')\n",
    "o.write(str(protein_seq))\n",
    "o.close()"
   ]
  },
  {
   "cell_type": "markdown",
   "metadata": {},
   "source": [
    "## 9. Finding a Motif in DNA\n",
    "\n",
    "Finding the same interval of DNA in the genomes of two different organisms (often taken from different species) is highly suggestive that the interval has the same function in both organisms.\n",
    "\n",
    "We define a motif as such a commonly shared interval of DNA. A common task in molecular biology is to search an organism's genome for a known motif.\n",
    "\n",
    "The situation is complicated by the fact that genomes are riddled with intervals of DNA that occur multiple times (possibly with slight modifications), called repeats. These repeats occur far more often than would be dictated by random chance, indicating that genomes are anything but random and in fact illustrate that the language of DNA must be very powerful (compare with the frequent reuse of common words in any human language).\n",
    "\n",
    "**Problem**\n",
    "\n",
    "- Given two strings _s_ and _t_, _t_ is a substring of _s_ if _t_ is contained as a contiguous collection of symbols in _s_.\n",
    "\n",
    "- The position of a symbol in a string is the total number of symbols found to its left, including itself (e.g., the positions of all occurrences of 'U' in \"AUGCUUCAGAAAGGUCUUACG\" are 2, 5, 6, 15, 17, and 18). The symbol at position i of s is denoted by s[i].\n",
    "\n",
    "\n",
    "\n",
    "- Given: Two DNA strings _s_ and _t_ (each of length at most 1 kbp).\n",
    "\n",
    "- Return: All locations of _t_ as a substring of _s_.\n"
   ]
  },
  {
   "cell_type": "code",
   "execution_count": 19,
   "metadata": {
    "collapsed": true
   },
   "outputs": [],
   "source": [
    "from Bio import motifs\n",
    "from Bio.Seq import Seq\n",
    "import Bio.Alphabet\n"
   ]
  },
  {
   "cell_type": "code",
   "execution_count": 35,
   "metadata": {
    "collapsed": false
   },
   "outputs": [
    {
     "name": "stdout",
     "output_type": "stream",
     "text": [
      "CTCACGGCT\n",
      "\n"
     ]
    }
   ],
   "source": [
    "f = open(\"data/rosalind_subs.txt\", 'r')\n",
    "\n",
    "# First string is raw DNA sequence\n",
    "raw_seq = f.readline().rstrip()\n",
    "dna_seq = Seq(raw_seq, Bio.Alphabet.IUPAC.unambiguous_dna)\n",
    "\n",
    "# Second sequence is a motif\n",
    "motif_seq = f.readline().rstrip()\n",
    "f.close()\n",
    "\n",
    "# motif instances must be in a list\n",
    "motif_instances = [Seq(motif_seq)]\n",
    "mi = motifs.create(motif_instances)\n",
    "print(mi)"
   ]
  },
  {
   "cell_type": "code",
   "execution_count": 36,
   "metadata": {
    "collapsed": false
   },
   "outputs": [
    {
     "data": {
      "text/plain": [
       "'39 54 61 82 89 121 202 249 328 354 542 581 604 634 689 732 739 785 817 838 862 880 896'"
      ]
     },
     "execution_count": 36,
     "metadata": {},
     "output_type": "execute_result"
    }
   ],
   "source": [
    "# output locations\n",
    "motif_locations = []\n",
    "for pos in mi.instances.search(dna_seq):\n",
    "    motif_locations.append(pos[0]+1) # changes default from \\n\n",
    "    \n",
    "\" \".join(map(str, motif_locations))    "
   ]
  },
  {
   "cell_type": "markdown",
   "metadata": {},
   "source": [
    "## 10. Consensus and Profile\n",
    "\n",
    "In # 6. “Counting Point Mutations”, we calculated the minimum number of symbol mismatches between two strings of equal length to model the problem of finding the minimum number of point mutations occurring on the evolutionary path between two homologous strands of DNA. If we instead have several homologous strands that we wish to analyze simultaneously, then the natural problem is to find an average-case strand to represent the most likely common ancestor of the given strands.\n",
    "\n",
    "- Say that we have a collection of DNA strings, all having the same length n\n",
    "- Their profile matrix is a 4×n matrix P in which P1,j represents the number of times 'A' occurs in the jth position of one of the strings, P2,j represents the number of times that C occurs in the jth position, and so on (see figure)\n",
    "- A consensus string c is a string of length n formed from our collection by taking the most common symbol at each position\n",
    "\n",
    "![](data/profile.png)\n",
    "\n",
    "**Problem**\n",
    "\n",
    "- Given: A collection of at most 10 DNA strings of equal length (at most 1 kbp) in FASTA format.\n",
    "\n",
    "- Return: A consensus string and profile matrix for the collection. (If several possible consensus strings exist, then you may return any one of them.)"
   ]
  },
  {
   "cell_type": "code",
   "execution_count": 46,
   "metadata": {
    "collapsed": false
   },
   "outputs": [],
   "source": [
    "# Basic Motif Comparisons\n",
    "from Bio import motifs\n",
    "from Bio.Seq import Seq\n",
    "import Bio.Alphabet\n",
    "\n",
    "f = open(\"data/rosalind_cons.txt\", 'r')\n",
    "raw_data = f.readlines()\n",
    "f.close()\n",
    "\n",
    "motif_dict = {}\n",
    "cur_key = ''\n",
    "\n",
    "# parse the dataset (similar to FASTA format with the '>')\n",
    "for i in raw_data:\n",
    "    if i[0] == '>':\n",
    "        cur_key = i[1:].rstrip() # removes > and newline character\n",
    "        motif_dict[cur_key] = '' # value is currently blank for current key\n",
    "    else:\n",
    "        # fill in values\n",
    "        # again remove newline and appends elements\n",
    "        motif_dict[cur_key] += i.rstrip()\n",
    "\n",
    "# create motifs instances\n",
    "instances = []\n",
    "for seq in motif_dict.values():\n",
    "    instances.append(Seq(seq))\n",
    "m = motifs.create(instances)\n",
    "\n",
    "''' m.counts create profile matrix but also\n",
    "    has a header which is not part of the answer.\n",
    "    Must create table manually by iterating over\n",
    "    the dictionary.'''\n",
    "\n",
    "profile = m.counts\n",
    "consensus = m.consensus\n",
    "\n",
    "o = open(\"data/rosalind_cons_solution.txt\", 'w')\n",
    "o.write(str(consensus))\n",
    "o.write('\\n')\n",
    "\n",
    "# Sort alphabetically by keys\n",
    "for key, value in sorted(profile.items()):\n",
    "    # must convert integers to str for concatenating\n",
    "    o.write(\"\".join(key + \": \" + \" \".join(map(str, value))))\n",
    "    o.write('\\n')\n",
    "o.close()"
   ]
  },
  {
   "cell_type": "code",
   "execution_count": 47,
   "metadata": {
    "collapsed": false
   },
   "outputs": [
    {
     "name": "stdout",
     "output_type": "stream",
     "text": [
      "GTGTGGGGTTATTCGAGGTCGAGTAATTGAGATACGATGTAGTCGTGATGTGGATCTCCCGTTCCCCAGTAGAGGCGAGTTCACTCGGGCAGAGCCTGAGGAGAGGCCGCGGATTTCCTGAGTGTAAAAGGAGGGGGATTGGGAGACCCCTTCGAGGCGACAACTTGCTTTTCATAAGATTGCTAAGCGCGAGTTACCAAATGTCGGTGGTGCCGGGGGAGATTGGGGATGAGAGGGTAGAGAAGGCCGGTAGGGGTGGGCCCAGCGTTAGGAGGTACGGGTATCCAATGCACTCGGTCTTGAAAAAATAGAAGTCAAGGATAGTAATGGAGTGAATACCGCAGGGAAAGCGAGCTACGAGGTCAGTTGGAAGATCACGCGGGGACGCATGCGGCGAGCGGTCACTCGAATAAGGCACTGTACCCCGAATTTGGTAAGGAATGTGGCAGCCAGTGTAACATACCCGTGGAGGAAAGTATGAGACGGTTGAAAGTCTTTCCAGTGGCCATGATGTTAGTGAGTGTAATGATGTGCGTTGAAGCAATTGGGGATGCAGGGAGATGCGACATCTCCACTGACGTGGGAGGAGTTGAAACACTGGGATTGTTGCGGCTATTAGAATTGACTAGTTCGCTTAGCCTAAAAATGGGGCATTATGTTAGGTTGTCAGTCATGATAAGCAGACGGTAGCAACAGGGATATCTCGCACGTCGGAATACGTGGGTTCACGATTGGGTTGGATCAAAGCGTGAGCAGGTCGCGGCACTTGACAGTCTAAGGGAGGGCATGTAGGAAAATGGGTTCAGTCCGCCTGCGAGTCGAGTAAGATCCACGGAGGGGGACGTCACTAAGTAGAGTGAAGCTAGAGGCAGATGCCCCAGTGCTCGGGCGGCTGCGTCTTTGTCAAATACGAAGGGCGGGTAAAGATAGCACTTAGCAAGGTGCGTGTGGTCC\n"
     ]
    }
   ],
   "source": [
    "print(str(consensus))"
   ]
  }
 ],
 "metadata": {
  "kernelspec": {
   "display_name": "Python 3",
   "language": "python",
   "name": "python3"
  },
  "language_info": {
   "codemirror_mode": {
    "name": "ipython",
    "version": 3
   },
   "file_extension": ".py",
   "mimetype": "text/x-python",
   "name": "python",
   "nbconvert_exporter": "python",
   "pygments_lexer": "ipython3",
   "version": "3.6.0"
  }
 },
 "nbformat": 4,
 "nbformat_minor": 2
}
