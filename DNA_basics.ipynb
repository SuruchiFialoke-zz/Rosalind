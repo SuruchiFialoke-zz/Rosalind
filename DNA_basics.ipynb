{
 "cells": [
  {
   "cell_type": "markdown",
   "metadata": {},
   "source": [
    "# Simple Bioinformatics Problems on Rosalind.info\n"
   ]
  },
  {
   "cell_type": "markdown",
   "metadata": {},
   "source": [
    "## 1. Counting DNA Nucleotides\n",
    "\n",
    "![](http://rosalind.info/media/problems/dna/DNA_chemical_structure.png)\n",
    "\n",
    "The nucleic acid monomer is called a nucleotide and is used as a unit of strand length (abbreviated to nt). Each nucleotide is formed of three parts: a sugar molecule, a negatively charged ion called a phosphate, and a compound called a nucleobase (\"base\" for short).Figure above shows a strand of deoxyribose nucleic acid (DNA), in which the sugar is called deoxyribose, and the only four choices for nucleobases are molecules called adenine (A), cytosine (C), guanine (G), and thymine (T). Genome refers to the sum total of the DNA contained in an organism's chromosomes.\n",
    "\n",
    "** Problem **\n",
    "\n",
    "* Given: A DNA string s of length at most 1000 nucleotide.\n",
    "* Return: Four integers separated by space corresponding to the number of\n",
    "    times that the symbols A, C, G, and T occur in s.\n",
    "* An example of a DNA string (whose alphabet contains the symbols A, C, G,\n",
    "    and T) is \"ATGCTTCAGAAAGGTCTTACG\".\n",
    "   "
   ]
  },
  {
   "cell_type": "code",
   "execution_count": 103,
   "metadata": {
    "collapsed": false
   },
   "outputs": [
    {
     "name": "stdout",
     "output_type": "stream",
     "text": [
      "6 4 5 6\n"
     ]
    }
   ],
   "source": [
    "# Function that counts nucleotides\n",
    "def count_nt(seq):\n",
    "    a = c = g = t = 0\n",
    "    for ch in seq:\n",
    "        if (ch == 'A'):\n",
    "            a += 1\n",
    "        if (ch == 'C'):\n",
    "            c += 1\n",
    "        if (ch == 'G'):\n",
    "            g += 1\n",
    "        if (ch == 'T'):\n",
    "            t += 1\n",
    "    print (a, c, g, t)\n",
    "\n",
    "# test\n",
    "count_nt('ATGCTTCAGAAAGGTCTTACG')"
   ]
  },
  {
   "cell_type": "code",
   "execution_count": 104,
   "metadata": {
    "collapsed": false
   },
   "outputs": [
    {
     "name": "stdout",
     "output_type": "stream",
     "text": [
      "256 223 206 209\n"
     ]
    }
   ],
   "source": [
    "# Read the file obtained from Rosalind, strip of newline\n",
    "dna_seq = open(\"rosalind_dna.txt\", 'r').read().rstrip()\n",
    "\n",
    "# Get results\n",
    "count_nt(dna_seq)"
   ]
  },
  {
   "cell_type": "markdown",
   "metadata": {},
   "source": [
    "### Bash Method, Use 'fgrep'\n",
    "\n",
    "- \\$ fgrep -o A rosalind_dna.txt | wc -l\n",
    "- \\$ fgrep -o C rosalind_dna.txt | wc -l\n",
    "- \\$ fgrep -o G rosalind_dna.txt | wc -l\n",
    "- \\$ fgrep -o T rosalind_dna.txt | wc -l\n"
   ]
  },
  {
   "cell_type": "markdown",
   "metadata": {},
   "source": [
    "## 2. Transcribing DNA into RNA\n",
    "\n",
    "- An RNA string is a string formed from the alphabet containing 'A', 'C', 'G', and 'U'.\n",
    "\n",
    "- Given a DNA string _t_ corresponding to a coding strand, its transcribed RNA string _u_ is formed by replacing all occurrences of 'T' in _t_ with 'U' in _u_.\n",
    "\n",
    "- Given: A DNA string _t_ having length at most 1000 nt.\n",
    "\n",
    "- Return: The transcribed RNA string of _t_"
   ]
  },
  {
   "cell_type": "code",
   "execution_count": 111,
   "metadata": {
    "collapsed": false
   },
   "outputs": [
    {
     "name": "stdout",
     "output_type": "stream",
     "text": [
      "GAUGGAACUUGACUACGUAAAUU\n"
     ]
    }
   ],
   "source": [
    "# Testing the code\n",
    "print('GATGGAACTTGACTACGTAAATT'.replace('T', 'U'))"
   ]
  },
  {
   "cell_type": "code",
   "execution_count": 108,
   "metadata": {
    "collapsed": false
   },
   "outputs": [],
   "source": [
    "# Read the file\n",
    "dna_seq = open(\"rosalind_rna.txt\", 'r').read().rstrip()\n",
    "\n",
    "# transcribe by replacing T with U\n",
    "rna_seq = dna_seq.replace('T', 'U')"
   ]
  },
  {
   "cell_type": "markdown",
   "metadata": {},
   "source": [
    "### Using Biopython"
   ]
  },
  {
   "cell_type": "code",
   "execution_count": 98,
   "metadata": {
    "collapsed": true
   },
   "outputs": [],
   "source": [
    "from Bio.Seq import Seq\n",
    "import Bio.Alphabet"
   ]
  },
  {
   "cell_type": "code",
   "execution_count": 109,
   "metadata": {
    "collapsed": false
   },
   "outputs": [],
   "source": [
    "# assign sequence as a DNA sequence\n",
    "t = Seq(dna_seq, Bio.Alphabet.IUPAC.unambiguous_dna)\n",
    "\n",
    "# use transcribe function\n",
    "rna_seq = str(t.transcribe())"
   ]
  },
  {
   "cell_type": "markdown",
   "metadata": {},
   "source": [
    "## 3. Complementing a Strand of DNA\n",
    "\n",
    "In “Counting DNA Nucleotides”, we saw that the primary structure of a nucleic acid is determined by the ordering of its nucleobases along the sugar-phosphate backbone that constitutes the bonds of the nucleic acid polymer. Yet primary structure tells us nothing about the larger, 3-dimensional shape of the molecule, which is vital for a complete understanding of nucleic acids.\n",
    "\n",
    "1. The entire DNA molecule is made up of two strands, running in opposite directions.\n",
    "2. Each base bonds to a base in the opposite strand; Adenine always bonds with thymine, and cytosine always bonds with guanine; the complement of a base is the base to which it always bonds.\n",
    "3. The two strands are twisted together into a long spiral staircase structure called a double helix.\n",
    "\n",
    "Because they dictate how bases from different strands interact with each other, (1) and (2) above compose the secondary structure of DNA. (3) describes the 3-dimensional shape of the DNA molecule, or its tertiary structure. \n",
    "\n",
    "The bonding of two complementary bases is called a base pair (bp). Therefore, the length of a DNA molecule will commonly be given in bp instead of nt. By complementarity, once we know the order of bases on one strand, we can immediately deduce the sequence of bases in the complementary strand. \n",
    "\n",
    "** Problem **\n",
    "In DNA strings, symbols 'A' and 'T' are complements of each other, as are 'C' and 'G'.\n",
    "\n",
    "The reverse complement of a DNA string _s_ is the string _sc_ formed by reversing the symbols of _s_, then taking the complement of each symbol (e.g., the reverse complement of \"GTCA\" is \"TGAC\").\n",
    "\n",
    "Given: A DNA string _s_ of length at most 1000 bp.\n",
    "\n",
    "Return: The reverse complement _sc_ of _s_."
   ]
  },
  {
   "cell_type": "code",
   "execution_count": 112,
   "metadata": {
    "collapsed": false
   },
   "outputs": [
    {
     "data": {
      "text/plain": [
       "'ACCGGGTTTT'"
      ]
     },
     "execution_count": 112,
     "metadata": {},
     "output_type": "execute_result"
    }
   ],
   "source": [
    "# Function that returns reverse complement\n",
    "\n",
    "def reverse_complement(seq):\n",
    "    comp_seq = ''\n",
    "    for ch in seq:\n",
    "        comp_seq = ''.join((complement(ch), comp_seq))\n",
    "    return comp_seq\n",
    "\n",
    "def complement(ch):\n",
    "    if (ch == 'A'):\n",
    "        return 'T'\n",
    "    if (ch ==  'T'):\n",
    "        return 'A'\n",
    "    if (ch == 'G'):\n",
    "        return 'C'\n",
    "    if (ch == 'C'):\n",
    "        return 'G'\n",
    "# test \n",
    "reverse_complement('AAAACCCGGT')    "
   ]
  },
  {
   "cell_type": "code",
   "execution_count": 114,
   "metadata": {
    "collapsed": false
   },
   "outputs": [],
   "source": [
    "# Read the file\n",
    "dna_seq = open(\"rosalind_revc.txt\", \"r\").read().rstrip()\n",
    "\n",
    "# strip the string of newline and get reverse complement\n",
    "rev_seq = reverse_complement(dna_seq)"
   ]
  },
  {
   "cell_type": "markdown",
   "metadata": {},
   "source": [
    "### Using Biopython"
   ]
  },
  {
   "cell_type": "code",
   "execution_count": 117,
   "metadata": {
    "collapsed": false
   },
   "outputs": [
    {
     "name": "stdout",
     "output_type": "stream",
     "text": [
      "CGTT AACG\n"
     ]
    }
   ],
   "source": [
    "# assign sequence as a DNA sequence\n",
    "t = Seq(dna_seq, Bio.Alphabet.IUPAC.unambiguous_dna)\n",
    "\n",
    "# use reverse_complement function\n",
    "rev_seq = str(t.reverse_complement())\n",
    "\n",
    "print(rev_seq[-4:], dna_seq[:4])"
   ]
  },
  {
   "cell_type": "markdown",
   "metadata": {},
   "source": [
    "## 4. Rabbits and Recurrence Relations\n",
    "\n",
    "A recurrence relation is a way of defining the terms of a sequence with respect to the values of previous terms. In the case of Fibonacci's rabbits from the introduction, any given month will contain the rabbits that were alive the previous month, plus any new offspring.\n",
    "\n",
    "\n",
    "**Problem **\n",
    "Given: Positive integers n ≤ 40  and k ≤ 5\n",
    "\n",
    "Return: The total number of rabbit pairs that will be present after n months, if we begin with 1 pair and in each generation, every pair of reproduction-age rabbits produces a litter of k rabbit pairs (instead of only 1 pair)."
   ]
  },
  {
   "cell_type": "code",
   "execution_count": 120,
   "metadata": {
    "collapsed": false
   },
   "outputs": [
    {
     "data": {
      "text/plain": [
       "48127306357829"
      ]
     },
     "execution_count": 120,
     "metadata": {},
     "output_type": "execute_result"
    }
   ],
   "source": [
    "# n - # of months\n",
    "# k - # of pairs \n",
    "\n",
    "def fib(n,k):\n",
    "    # total number of rabbit pairs\n",
    "    a,b = 1,1\n",
    "    for i in range(n-1):\n",
    "        a,b = b, b+(a*k)\n",
    "    return a\n",
    "\n",
    "fib(35,4)"
   ]
  },
  {
   "cell_type": "markdown",
   "metadata": {},
   "source": [
    "## 5. Computing GC Content\n",
    "\n",
    "Although two members of the same species will have different genomes, they still share the vast percentage of their DNA; notably, 99.9% of the 3.2 billion base pairs in a human genome are common to almost all humans (i.e., excluding people having major genetic defects). For this reason, biologists will speak of the human genome, meaning an average-case genome derived from a collection of individuals. \n",
    "\n",
    "Because of the base pairing relations of the two DNA strands, cytosine and guanine will always appear in equal amounts in a double-stranded DNA molecule. Thus, to analyze the symbol frequencies of DNA for comparison against a database, we compute the molecule's GC-content, or the percentage of its bases that are either cytosine or guanine.\n",
    "\n",
    "In practice, the GC-content of most eukaryotic genomes hovers around 50%. However, because genomes are so long, we may be able to distinguish species based on very small discrepancies in GC-content; furthermore, most prokaryotes have a GC-content significantly higher than 50%, so that GC-content can be used to quickly differentiate many prokaryotes and eukaryotes by using relatively small DNA samples.\n",
    "\n",
    "\n",
    "\n",
    "**Problem**\n",
    "\n",
    "Given: At most 10 DNA strings in FASTA format (of length at most 1 kbp each).\n",
    "\n",
    "Return: The ID of the string having the highest GC-content, followed by the GC-content of that string. Rosalind allows for a default error of 0.001 in all decimal answers unless otherwise stated; please see the note on absolute error below.\n",
    "\n",
    "\n",
    "_FASTA Format_\n",
    "\n",
    "\n",
    "DNA strings must be labeled when they are consolidated into a database. A commonly used method of string labeling is called FASTA format. In this format, the string is introduced by a line that begins with '>', followed by some labeling information. Subsequent lines contain the string itself; the first line to begin with '>' indicates the label of the next string.\n",
    "In Rosalind's implementation, a string in FASTA format will be labeled by the ID \"Rosalind_xxxx\", where \"xxxx\" denotes a four-digit code between 0000 and 9999."
   ]
  },
  {
   "cell_type": "code",
   "execution_count": 134,
   "metadata": {
    "collapsed": true
   },
   "outputs": [],
   "source": [
    "# use dictionary to store sequences and their ids\n",
    "def fasta_to_seqs(raw_data): \n",
    "    dna_strings = {}\n",
    "    cur_key = ''\n",
    "    for line in raw_data:\n",
    "        if line[0] == '>':\n",
    "            cur_key = line[1:].rstrip() # removes > and newline character\n",
    "            dna_strings[cur_key] = '' # value is currently blank for current key\n",
    "        else:\n",
    "            # fill in values\n",
    "            # again remove newline and appends elements\n",
    "            dna_strings[cur_key] += line.rstrip()\n",
    "    return dna_strings        "
   ]
  },
  {
   "cell_type": "code",
   "execution_count": 143,
   "metadata": {
    "collapsed": false
   },
   "outputs": [],
   "source": [
    "raw_data = open(\"rosalind_gc.txt\", 'r').readlines()\n",
    "\n",
    "dna_strings = fasta_to_seqs(raw_data)\n"
   ]
  },
  {
   "cell_type": "code",
   "execution_count": 141,
   "metadata": {
    "collapsed": false
   },
   "outputs": [
    {
     "name": "stdout",
     "output_type": "stream",
     "text": [
      "{'Rosalind_7212': 49.07063197026022, 'Rosalind_2843': 51.025331724969845, 'Rosalind_3672': 51.65631469979296, 'Rosalind_2929': 48.729792147806, 'Rosalind_2675': 50.71599045346062, 'Rosalind_4841': 47.27085478887744, 'Rosalind_2304': 48.617511520737324, 'Rosalind_1778': 46.13661814109742, 'Rosalind_4985': 50.50055617352614}\n"
     ]
    }
   ],
   "source": [
    "# get gc content\n",
    "from Bio.SeqUtils import GC\n",
    "\n",
    "gc_contents = {}\n",
    "\n",
    "for seq_id, seq in dna_strings.items(): # iterate both keys and values\n",
    "    gc_contents[seq_id] = GC(seq) # Use GC function from BioPython\n",
    "\n",
    "print(gc_contents)"
   ]
  },
  {
   "cell_type": "code",
   "execution_count": 144,
   "metadata": {
    "collapsed": false
   },
   "outputs": [
    {
     "name": "stdout",
     "output_type": "stream",
     "text": [
      "Rosalind_3672\n",
      "51.65631469979296\n"
     ]
    }
   ],
   "source": [
    "max_gc_id = max(gc_contents, key = gc_contents.get)\n",
    "max_gc_value = max(gc_contents.values())\n",
    "\n",
    "print(max_gc_id)\n",
    "print(max_gc_value)"
   ]
  },
  {
   "cell_type": "markdown",
   "metadata": {},
   "source": [
    "### Use Biopython parsing for FASTA"
   ]
  },
  {
   "cell_type": "code",
   "execution_count": 146,
   "metadata": {
    "collapsed": false
   },
   "outputs": [
    {
     "name": "stdout",
     "output_type": "stream",
     "text": [
      "Rosalind_3672\n",
      "51.66 %\n"
     ]
    },
    {
     "ename": "NameError",
     "evalue": "name 'close' is not defined",
     "output_type": "error",
     "traceback": [
      "\u001b[0;31m---------------------------------------------------------------------------\u001b[0m",
      "\u001b[0;31mNameError\u001b[0m                                 Traceback (most recent call last)",
      "\u001b[0;32m<ipython-input-146-84ec554157d6>\u001b[0m in \u001b[0;36m<module>\u001b[0;34m()\u001b[0m\n\u001b[1;32m     10\u001b[0m \u001b[0mprint\u001b[0m\u001b[0;34m(\u001b[0m\u001b[0mGCname\u001b[0m\u001b[0;34m)\u001b[0m\u001b[0;34m\u001b[0m\u001b[0m\n\u001b[1;32m     11\u001b[0m \u001b[0mprint\u001b[0m\u001b[0;34m(\u001b[0m\u001b[0mround\u001b[0m\u001b[0;34m(\u001b[0m\u001b[0mGCcont\u001b[0m\u001b[0;34m,\u001b[0m\u001b[0;36m2\u001b[0m\u001b[0;34m)\u001b[0m\u001b[0;34m,\u001b[0m \u001b[0;34m\"%\"\u001b[0m\u001b[0;34m)\u001b[0m\u001b[0;34m\u001b[0m\u001b[0m\n\u001b[0;32m---> 12\u001b[0;31m \u001b[0mclose\u001b[0m\u001b[0;34m(\u001b[0m\u001b[0mfile\u001b[0m\u001b[0;34m)\u001b[0m\u001b[0;34m\u001b[0m\u001b[0m\n\u001b[0m",
      "\u001b[0;31mNameError\u001b[0m: name 'close' is not defined"
     ]
    }
   ],
   "source": [
    "from Bio import SeqIO\n",
    "GCcont = 0\n",
    "GCname = \"\"\n",
    "file = open(\"rosalind_gc.txt\", \"r\")\n",
    "for record in SeqIO.parse(file, \"fasta\"):\n",
    "    if GCcont < GC(record.seq):\n",
    "        GCcont = GC(record.seq)\n",
    "        GCname = record.id\n",
    "\n",
    "print(GCname)\n",
    "print(round(GCcont,2), \"%\")\n",
    "filr."
   ]
  },
  {
   "cell_type": "code",
   "execution_count": null,
   "metadata": {
    "collapsed": true
   },
   "outputs": [],
   "source": []
  }
 ],
 "metadata": {
  "kernelspec": {
   "display_name": "Python 3",
   "language": "python",
   "name": "python3"
  },
  "language_info": {
   "codemirror_mode": {
    "name": "ipython",
    "version": 3
   },
   "file_extension": ".py",
   "mimetype": "text/x-python",
   "name": "python",
   "nbconvert_exporter": "python",
   "pygments_lexer": "ipython3",
   "version": "3.6.0"
  }
 },
 "nbformat": 4,
 "nbformat_minor": 2
}
