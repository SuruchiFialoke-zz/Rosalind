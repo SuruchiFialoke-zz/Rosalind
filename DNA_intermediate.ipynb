{
 "cells": [
  {
   "cell_type": "markdown",
   "metadata": {},
   "source": [
    "# Bioinformatics Problems on Rosalind.info\n",
    "\n",
    "## 6. Counting Point Mutations\n",
    "\n",
    "A mutation is simply a mistake that occurs during the creation or copying of a nucleic acid, in particular DNA. Because nucleic acids are vital to cellular functions, mutations tend to cause a ripple effect throughout the cell. Although mutations are technically mistakes, a very rare mutation may equip the cell with a beneficial attribute. In fact, the macro effects of evolution are attributable by the accumulated result of beneficial microscopic mutations over many generations.\n",
    "\n",
    "The simplest and most common type of nucleic acid mutation is a **point mutation**, which replaces one base with another at a single nucleotide. In the case of DNA, a point mutation must change the complementary base accordingly.\n",
    "\n",
    "\n",
    "**Problem**\n",
    "\n",
    "Given two strings _s_ and _t_ of equal length, the Hamming distance between _s_ and _t_, denoted dH(s,t), is the number of corresponding symbols that differ in _s_ and _t_. \n",
    "\n",
    "Given: Two DNA strings _s_ and _t_ of equal length (not exceeding 1 kbp).\n",
    "\n",
    "Return: The Hamming distance dH(s,t)."
   ]
  },
  {
   "cell_type": "code",
   "execution_count": 6,
   "metadata": {
    "collapsed": false
   },
   "outputs": [
    {
     "name": "stdout",
     "output_type": "stream",
     "text": [
      "length of sequence = 932\n",
      "number of mutations = 469\n"
     ]
    }
   ],
   "source": [
    "# read file\n",
    "f = open(\"data/rosalind_hamm.txt\", 'r')\n",
    "raw_data = f.readlines()\n",
    "f.close()\n",
    "\n",
    "mutation_count = 0 # initialize mutations\n",
    "\n",
    "# iterate through the sequences\n",
    "for i in range(len(raw_data[0])):\n",
    "    if raw_data[0][i] != raw_data[1][i]:\n",
    "        mutation_count += 1\n",
    "\n",
    "print(\"length of sequence =\", len(raw_data[0]))\n",
    "print(\"number of mutations =\",mutation_count)"
   ]
  },
  {
   "cell_type": "markdown",
   "metadata": {},
   "source": [
    "## 7. Mendel's First Law\n",
    "\n",
    "Also known as the law of segregation, Mendel's 1st Law stated that:\n",
    "\n",
    "- every organism possesses a pair of alleles for a given factor. \n",
    "- If an individual's two alleles for a given factor are the same, then it is homozygous for the factor; if the alleles differ, then the individual is heterozygous. \n",
    "- The first law concludes that for any factor, an organism randomly passes one of its two alleles to each offspring, so that an individual receives one allele from each parent.\n",
    "- any factor corresponds to only two possible alleles, the dominant and recessive alleles. \n",
    "- An organism only needs to possess one copy of the dominant allele to display the trait represented by the dominant allele. \n",
    "\n",
    "We may encode the dominant allele of a factor by a capital letter (e.g., AA) and the recessive allele by a lower case letter (e.g., aa). Because a heterozygous organism can possess a recessive allele without displaying the recessive form of the trait, we henceforth define an organism's genotype to be its precise genetic makeup and its phenotype as the physical manifestation of its underlying traits.\n",
    "\n",
    "The different possibilities describing an individual's inheritance of two alleles from its parents can be represented by a Punnett square; see Figure below for an example.\n",
    "\n",
    "![](http://rosalind.info/media/problems/iprb/220px-Punnett_Square.svg.png)\n",
    "\n",
    "A Punnett square representing the possible outcomes of crossing a heterozygous organism (Yy) with a homozygous recessive organism (yy); here, the dominant allele Y corresponds to yellow pea pods, and the recessive allele y corresponds to green pea pods.\n",
    "\n",
    "\n",
    "**Problem**\n",
    "\n",
    "Given: Three positive integers k, m, and n, representing a population containing k+m+n organisms: k individuals are homozygous dominant for a factor, m are heterozygous, and n are homozygous recessive.\n",
    "\n",
    "Return: The probability that two randomly selected mating organisms will produce an individual possessing a dominant allele (and thus displaying the dominant phenotype). Assume that any two organisms can mate."
   ]
  },
  {
   "cell_type": "code",
   "execution_count": 13,
   "metadata": {
    "collapsed": false
   },
   "outputs": [
    {
     "data": {
      "text/plain": [
       "0.7833333333333333"
      ]
     },
     "execution_count": 13,
     "metadata": {},
     "output_type": "execute_result"
    }
   ],
   "source": [
    "# HD = homozygous dominant (AA)\n",
    "# HT = heterozygous (Aa)\n",
    "# HR = homozygous recessive (aa)\n",
    "def dominant_phenotype(HD, HT, HR):\n",
    "    tot = HD + HT + HR\n",
    "    # probability of obtaining recessive allele if both from HR\n",
    "    pRecc_2HR = HR * (HR-1)\n",
    "    \n",
    "    # probability of obtaining recessive allele if both from hetero\n",
    "    pRecc_2HT = (0.5*HT) * (0.5*(HT-1))\n",
    "    \n",
    "    # probability of obtaining recessive allele if one from hetero and one from HR\n",
    "    # double because two scenarios (e.g. Aa * aa & aa * Aa)\n",
    "    pRecc_1HT_1HR = 2.0 * HR * (0.5*HT)\n",
    "    \n",
    "    pRecc  = (pRecc_2HR + pRecc_2HT + pRecc_1HT_1HR)/(tot*(tot-1))\n",
    "    return 1-pRecc\n",
    "\n",
    "dominant_phenotype(2, 2, 2)"
   ]
  },
  {
   "cell_type": "markdown",
   "metadata": {},
   "source": [
    "## 8. Translating RNA into Protein\n",
    "\n",
    "Just as nucleic acids are polymers of nucleotides, proteins are chains of smaller molecules called amino acids; 20 amino acids commonly appear in every species. Just as the primary structure of a nucleic acid is given by the order of its nucleotides, the primary structure of a protein is the order of its amino acids. Some proteins are composed of several subchains called polypeptides, while others are formed of a single polypeptide.\n",
    "\n",
    "The notion that protein is always created from RNA, which in turn is always created from DNA, forms the central dogma of molecular biology. Like all dogmas, it does not always hold; however, it offers an excellent approximation of the truth.\n",
    "\n"
   ]
  },
  {
   "cell_type": "code",
   "execution_count": null,
   "metadata": {
    "collapsed": true
   },
   "outputs": [],
   "source": []
  },
  {
   "cell_type": "markdown",
   "metadata": {},
   "source": [
    "## Enumerating Gene Order\n",
    "\n",
    "Point mutations can create changes in populations of organisms from the same species, but they lack the power to create and differentiate entire species. This more arduous work is left to larger mutations called genome rearrangements, which move around huge blocks of DNA. Rearrangements cause major genomic change, and most rearrangements are fatal or seriously damaging to the mutated cell and its descendants (many cancers derive from rearrangements). For this reason, rearrangements that come to influence the genome of an entire species are very rare.\n",
    "\n",
    "Because rearrangements that affect species evolution occur infrequently, two closely related species will have very similar genomes. Thus, to simplify comparison of two such genomes, researchers first identify similar intervals of DNA from the species, called synteny blocks; over time, rearrangements have created these synteny blocks and heaved them around across the two genomes (often separating blocks onto different chromosomes, see Figure below).\n",
    "\n",
    "![](https://static-content.springer.com/esm/art%3A10.1186%2F1471-2105-8-82/MediaObjects/12859_2006_1454_MOESM2_ESM.png)\n",
    "\n",
    "A pair of synteny blocks from two different species are not strictly identical (they are separated by the action of point mutations or very small rearrangements), but for the sake of studying large-scale rearrangements, we consider them to be equivalent. As a result, we can label each synteny block with a positive integer; when comparing two species' genomes/chromosomes, we then only need to specify the order of its numbered synteny blocks.\n",
    "\n"
   ]
  }
 ],
 "metadata": {
  "kernelspec": {
   "display_name": "Python 3",
   "language": "python",
   "name": "python3"
  },
  "language_info": {
   "codemirror_mode": {
    "name": "ipython",
    "version": 3
   },
   "file_extension": ".py",
   "mimetype": "text/x-python",
   "name": "python",
   "nbconvert_exporter": "python",
   "pygments_lexer": "ipython3",
   "version": "3.6.0"
  }
 },
 "nbformat": 4,
 "nbformat_minor": 2
}
