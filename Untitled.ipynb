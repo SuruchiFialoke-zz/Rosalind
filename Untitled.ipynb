{
 "cells": [
  {
   "cell_type": "markdown",
   "metadata": {},
   "source": [
    "## Return number of times that the symbols A, C, G, and T in a DNA string\n",
    "\n",
    "* Given: A DNA string s of length at most 1000 nt.\n",
    "* Return: Four integers separated by space corresponding to the number of\n",
    "    times that the symbols A, C, G, and T occur in s.\n",
    "* An example of a DNA string (whose alphabet contains the symbols A, C, G,\n",
    "    and T) is \"ATGCTTCAGAAAGGTCTTACG\"."
   ]
  },
  {
   "cell_type": "code",
   "execution_count": 11,
   "metadata": {
    "collapsed": true
   },
   "outputs": [],
   "source": [
    "# Read the file\n",
    "fdat = open(\"rosalind_dna.txt\", 'r').read()"
   ]
  },
  {
   "cell_type": "code",
   "execution_count": 12,
   "metadata": {
    "collapsed": true
   },
   "outputs": [],
   "source": [
    "from collections import Counter\n",
    "freq = Counter()"
   ]
  },
  {
   "cell_type": "code",
   "execution_count": 13,
   "metadata": {
    "collapsed": true
   },
   "outputs": [],
   "source": [
    "for var in fdat:\n",
    "        freq.update([var])"
   ]
  },
  {
   "cell_type": "code",
   "execution_count": 14,
   "metadata": {
    "collapsed": false
   },
   "outputs": [
    {
     "data": {
      "text/plain": [
       "'195 207 212 226'"
      ]
     },
     "execution_count": 14,
     "metadata": {},
     "output_type": "execute_result"
    }
   ],
   "source": [
    "\"%(A)s %(C)s %(G)s %(T)s\" % freq"
   ]
  },
  {
   "cell_type": "code",
   "execution_count": 20,
   "metadata": {
    "collapsed": true
   },
   "outputs": [],
   "source": [
    "s = 'TAGGGTCTACAAAGGGCAGACATGATTTGCAGCCATTCAGGGAATGCCTCAACCTCAATGCCTGACTCGTGATACTAGTACCACCCACGGTTATCACACAGACAGAGTCCCACGACGAGCATATGGCACGAATTTCCCCATAGGTGCACTGTATCCTCGCCAAAGCACGGCGTTAACCAAACGGTGATTATAAAAACCAGGCCAATAATGGAGTCAAGCTGACATCCCTCAGCGCGACGCGGAAAATTTGATTAGATTTGCGTGCCGAAATTAACTCTCCAACTTGCCTTAACTTAGGGCCCCTCCTCACTCTGGCCGGGCACACCTTAGGGATAATTGGAACTCGTTCAATAGAGGACCTTCCGCAGTAATCACAGGGACTGGGTTCGGTAGGAGAGGCTTAACGTCGAACCAGTCGGAGGCCGACAATTCACTGCCAGCCGCACCCGAAATCTTAATCTATGATACGTATCGTCCCGGGAGGATGCAATAATATGACCACCTATGTTTATTCTGACAACTATAACGCTCGATGTAAAAGATCCGGCTCGGCCACAAGCAGCTGCATGCAAACGGTCGTGCTGATCAGCTAGAAGTTAGGCAGATGGCTACCAGCGAAGAACGTAGGTTTAGGGGTAATCCCTAGATATCAGCAGATCTATCGATTTCTGTGATCCTTGTGCAATACTGAAGACTTATACTCCCACTGTACGCAAGGCGACTTGTCGCTAGGACTGTACTACACCCATATACCAAATACTAGTGCCCGCAGTATCTGTAGGGAGGCCAGAAAGACAGGATTGTTACGGCGAGTGATTTATGTATTTTAGATCTCAGCAATCATGTTGGATACCTAACAGGAGACACGTAATAATCTTGGGCACTATTTAACCA'"
   ]
  },
  {
   "cell_type": "code",
   "execution_count": 21,
   "metadata": {
    "collapsed": false
   },
   "outputs": [],
   "source": [
    "def DNA(s):\n",
    "    a = c = g = t = 0\n",
    "    for ch in s:\n",
    "        if (ch == 'A'):\n",
    "            a += 1\n",
    "        if (ch == 'C'):\n",
    "            c += 1\n",
    "        if (ch == 'G'):\n",
    "            g += 1\n",
    "        if (ch == 'T'):\n",
    "            t += 1\n",
    "    print (a, c, g, t)"
   ]
  },
  {
   "cell_type": "code",
   "execution_count": 22,
   "metadata": {
    "collapsed": false
   },
   "outputs": [
    {
     "name": "stdout",
     "output_type": "stream",
     "text": [
      "256 223 206 209\n"
     ]
    }
   ],
   "source": [
    "DNA(s)"
   ]
  },
  {
   "cell_type": "markdown",
   "metadata": {},
   "source": [
    "## Alternate Method, Use 'fgrep'\n",
    "\n",
    "- \\$ fgrep -o A rosalind_dna.txt | wc -l\n",
    "- \\$ fgrep -o C rosalind_dna.txt | wc -l\n",
    "- \\$ fgrep -o G rosalind_dna.txt | wc -l\n",
    "- \\$ fgrep -o T rosalind_dna.txt | wc -l\n"
   ]
  }
 ],
 "metadata": {
  "kernelspec": {
   "display_name": "Python 3",
   "language": "python",
   "name": "python3"
  },
  "language_info": {
   "codemirror_mode": {
    "name": "ipython",
    "version": 3
   },
   "file_extension": ".py",
   "mimetype": "text/x-python",
   "name": "python",
   "nbconvert_exporter": "python",
   "pygments_lexer": "ipython3",
   "version": "3.6.0"
  }
 },
 "nbformat": 4,
 "nbformat_minor": 2
}
